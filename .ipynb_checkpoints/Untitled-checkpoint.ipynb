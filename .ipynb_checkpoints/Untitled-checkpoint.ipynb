{
 "cells": [
  {
   "cell_type": "markdown",
   "id": "c588acf8",
   "metadata": {},
   "source": [
    "Um den Code in diesem Tutorial zu verstehen, werden Basiskenntnisse in der Programmiersprache Python vorausgesetzt. Bei Python handelt es sich zwar um eine höhere Programmiersprache mit komplexen Anwendungsmöglichkeiten, jedoch lassen sich Grundkenntnisse intuitiv und schnell erlernen. \n",
    "\n",
    "Für tabellarisch vorliegende Daten stellt Python eine umfangreiche Bibliothek, mit dem Namen pandas bereit. Pandas bietet umfangreiche Möglichkeiten, Daten anzuzeigen, zu sortieren, zu bereihnigen und zu transformieren.\n",
    "Im folgenden werden wir uns einige der wichtigsten Funktionen von pandas genauer ansehen. Eine komplette Dokumentation findet sich hier: XX\n",
    "\n",
    "Zunächst muss pandas zu den Standartbibliotheken in Python nachgeladen werden."
   ]
  },
  {
   "cell_type": "code",
   "execution_count": null,
   "id": "83985740",
   "metadata": {},
   "outputs": [],
   "source": [
    "# Die pandas Bibliothek muss nachgeladen werden:\n",
    "import pandas as pd"
   ]
  },
  {
   "cell_type": "code",
   "execution_count": null,
   "id": "e7df27a5",
   "metadata": {},
   "outputs": [],
   "source": [
    "# anschließend können tabellarische Daten eingelesen werden. Dafür steht in pandas die Funktion read_() breit\n",
    "csv_df = pd.read_csv('your_data.csv')"
   ]
  },
  {
   "cell_type": "markdown",
   "id": "f9ca2db7",
   "metadata": {},
   "source": [
    "Anschließend können XX-Dateien von pandas eingelesen werden. In unserem Fall handelt es sich um eine Excel-Datei. Sehen wir uns den Datesatz zunächst an um festzustellen, ob der Import funktioniert hat. "
   ]
  },
  {
   "cell_type": "code",
   "execution_count": null,
   "id": "056302df",
   "metadata": {},
   "outputs": [],
   "source": [
    "# mit der Funktion head() die ersten 20 Zeilen anzeigen oder mit der Funktion tail(20) die letzten\n",
    "csv_df.head(20)\n",
    "csv_df.tail(20)"
   ]
  },
  {
   "cell_type": "markdown",
   "id": "945ce8f6",
   "metadata": {},
   "source": [
    "Auf den Daten können wir nun erste statistische Analysen durchführen. Die Funktion describe() ist in pandas enthalten und bietet einen ersten Überblick."
   ]
  },
  {
   "cell_type": "markdown",
   "id": "e7216219",
   "metadata": {},
   "source": [
    "describe()\n",
    "\n",
    "Gibt für jede Spalte mit numerischem Datentype die folgenden Angaben aus:\n",
    "\n",
    "    die Anzahl der nicht-Nan Werte (count)\n",
    "    den Mittelwert (mean)\n",
    "    für die 5 Werte 1, 5, 6, 2 und 6:\n",
    "    1+5+6+2+65=4\n",
    "\n",
    "die Standardabweichung (std)\n",
    "(1−4)2+(5−4)2+(6−4)2+(2−4)2+(6−4)25−1⎯⎯⎯⎯⎯⎯⎯⎯⎯⎯⎯⎯⎯⎯⎯⎯⎯⎯⎯⎯⎯⎯⎯⎯⎯⎯⎯⎯⎯⎯⎯⎯⎯⎯⎯⎯⎯⎯⎯⎯⎯⎯⎯⎯⎯⎯⎯⎯⎯⎯⎯⎯⎯⎯⎯⎯⎯⎯⎯⎯⎯⎯⎯⎯⎯⎯⎯⎯⎯⎯⎯⎯⎯⎯⎯⎯⎯⎯⎯⎯⎯√\n",
    "den kleinsten Wert (min), i.e., der Werte unter dem 0% der gesamten Werte liegen\n",
    "die 0,25-Quantil, i.e., der Werte unter dem 25% der gesamten Werte liegen\n",
    "die 0,50-Quantil, i.e., der Werte unter dem 50% der gesamten Werte liegen\n",
    "die 0,75-Quantil, i.e., der Werte unter dem 75% der gesamten Werte liegen\n",
    "den größten Wert (max), i.e., der Werte unter dem 100% der gesamten Werte liegen"
   ]
  },
  {
   "cell_type": "code",
   "execution_count": null,
   "id": "f3873d01",
   "metadata": {},
   "outputs": [],
   "source": []
  }
 ],
 "metadata": {
  "kernelspec": {
   "display_name": "Python 3 (ipykernel)",
   "language": "python",
   "name": "python3"
  },
  "language_info": {
   "codemirror_mode": {
    "name": "ipython",
    "version": 3
   },
   "file_extension": ".py",
   "mimetype": "text/x-python",
   "name": "python",
   "nbconvert_exporter": "python",
   "pygments_lexer": "ipython3",
   "version": "3.11.5"
  }
 },
 "nbformat": 4,
 "nbformat_minor": 5
}
